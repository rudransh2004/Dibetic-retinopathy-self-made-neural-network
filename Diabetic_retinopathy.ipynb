{
  "nbformat": 4,
  "nbformat_minor": 0,
  "metadata": {
    "colab": {
      "name": "Diabetic retinopathy.ipynb",
      "provenance": [],
      "collapsed_sections": []
    },
    "kernelspec": {
      "name": "python3",
      "display_name": "Python 3"
    },
    "accelerator": "TPU"
  },
  "cells": [
    {
      "cell_type": "code",
      "metadata": {
        "id": "1rhNEo_QWEUC",
        "colab_type": "code",
        "colab": {}
      },
      "source": [
        "from google.colab import files\n",
        "files.upload()\n"
      ],
      "execution_count": 0,
      "outputs": []
    },
    {
      "cell_type": "code",
      "metadata": {
        "id": "Gyhn5vkiWvig",
        "colab_type": "code",
        "colab": {}
      },
      "source": [
        "!pip install -q kaggle"
      ],
      "execution_count": 0,
      "outputs": []
    },
    {
      "cell_type": "code",
      "metadata": {
        "id": "v7X5s9ARW037",
        "colab_type": "code",
        "colab": {}
      },
      "source": [
        "!mkdir ~/. kaggle"
      ],
      "execution_count": 0,
      "outputs": []
    },
    {
      "cell_type": "code",
      "metadata": {
        "id": "JFXn5rGwXIYp",
        "colab_type": "code",
        "colab": {}
      },
      "source": [
        "!cp kaggle.json ~/.kaggle/"
      ],
      "execution_count": 0,
      "outputs": []
    },
    {
      "cell_type": "code",
      "metadata": {
        "id": "BYcGlTHyXNpK",
        "colab_type": "code",
        "colab": {}
      },
      "source": [
        "!chmod 600 ~/.kaggle/kaggle.json"
      ],
      "execution_count": 0,
      "outputs": []
    },
    {
      "cell_type": "code",
      "metadata": {
        "id": "OULg7HGFO-ju",
        "colab_type": "code",
        "colab": {}
      },
      "source": [
        "!kaggle datasets download -d sovitrath/diabetic-retinopathy-224x224-gaussian-filtered"
      ],
      "execution_count": 0,
      "outputs": []
    },
    {
      "cell_type": "code",
      "metadata": {
        "id": "Ry9cWattadFs",
        "colab_type": "code",
        "colab": {}
      },
      "source": [
        "!mkdir data"
      ],
      "execution_count": 0,
      "outputs": []
    },
    {
      "cell_type": "code",
      "metadata": {
        "id": "RMm_ocyMZ9Jv",
        "colab_type": "code",
        "colab": {}
      },
      "source": [
        "!unzip diabetic-retinopathy-224x224-gaussian-filtered.zip -d data"
      ],
      "execution_count": 0,
      "outputs": []
    },
    {
      "cell_type": "code",
      "metadata": {
        "id": "5cUhosWGatm2",
        "colab_type": "code",
        "colab": {}
      },
      "source": [
        "!pip uninstall tensorflow"
      ],
      "execution_count": 0,
      "outputs": []
    },
    {
      "cell_type": "code",
      "metadata": {
        "id": "nTNcBQ466RUr",
        "colab_type": "code",
        "colab": {}
      },
      "source": [
        "!pip install tensorflow==1.14.0"
      ],
      "execution_count": 0,
      "outputs": []
    },
    {
      "cell_type": "code",
      "metadata": {
        "id": "saE7TEBEDYDT",
        "colab_type": "code",
        "colab": {}
      },
      "source": [
        "import os\n",
        "Mild_path = \"/content/data/gaussian_filtered_images/gaussian_filtered_images/Mild/\"\n",
        "Moderate_path = \"/content/data/gaussian_filtered_images/gaussian_filtered_images/Moderate\"\n",
        "NoDR_path = \"/content/data/gaussian_filtered_images/gaussian_filtered_images/No_DR\"\n",
        "ProliferateDR_path = \"/content/data/gaussian_filtered_images/gaussian_filtered_images/Proliferate_DR\"\n",
        "Severe = \"/content/data/gaussian_filtered_images/gaussian_filtered_images/Severe\"\n",
        "\n"
      ],
      "execution_count": 0,
      "outputs": []
    },
    {
      "cell_type": "code",
      "metadata": {
        "id": "2koRAf7z6tXh",
        "colab_type": "code",
        "colab": {}
      },
      "source": [
        "from os import listdir\n",
        "import cv2\n",
        "size = 128,128\n",
        "\n",
        "train_data = []\n",
        "labels = []\n",
        "def conversion(images,directory,size,label):\n",
        "  try:\n",
        "    for i in range(len(images)):\n",
        "      img = cv2.imread(directory+images[i])\n",
        "      img = cv2.resize(img,size)\n",
        "      train_data.append(img)\n",
        "      labels.append(label)\n",
        "  except:\n",
        "     pass\n",
        "\n",
        "     \n",
        "\n",
        "conversion(listdir(Mild_path),Mild_path,size,0)\n",
        "conversion(listdir(Moderate_path),Moderate_path,size,1)\n",
        "conversion(listdir(NoDR_path),NoDR_path,size,2)\n",
        "conversion(listdir(ProliferateDR_path),ProliferateDR_path,size,3)\n",
        "conversion(listdir(Severe),Severe,size,4)         \n",
        "      \n",
        "\n",
        "\n"
      ],
      "execution_count": 0,
      "outputs": []
    },
    {
      "cell_type": "code",
      "metadata": {
        "id": "X6sNzUZhK5Ya",
        "colab_type": "code",
        "colab": {}
      },
      "source": [
        "len(train_data),len(labels)\n"
      ],
      "execution_count": 0,
      "outputs": []
    },
    {
      "cell_type": "code",
      "metadata": {
        "id": "O26ANkVlKz8U",
        "colab_type": "code",
        "colab": {}
      },
      "source": [
        "import numpy as np\n",
        "\n",
        "data = np.asarray(train_data)\n",
        "data = data/250.0\n",
        "labels = np.asarray(labels)"
      ],
      "execution_count": 0,
      "outputs": []
    },
    {
      "cell_type": "code",
      "metadata": {
        "id": "WfuCMLGMNRrj",
        "colab_type": "code",
        "colab": {}
      },
      "source": [
        "data.shape, labels.shape"
      ],
      "execution_count": 0,
      "outputs": []
    },
    {
      "cell_type": "code",
      "metadata": {
        "id": "97srWUzoN10C",
        "colab_type": "code",
        "colab": {}
      },
      "source": [
        "from sklearn.model_selection import train_test_split\n",
        "X_train,X_test,Y_train,Y_test = train_test_split(data,labels,test_size=30,shuffle = True)"
      ],
      "execution_count": 0,
      "outputs": []
    },
    {
      "cell_type": "code",
      "metadata": {
        "id": "_-pM4aFrPHbp",
        "colab_type": "code",
        "colab": {}
      },
      "source": [
        "from keras.models import model_from_json\n",
        "from keras.models import Sequential\n",
        "from keras.layers import Conv2D,MaxPool2D,Flatten,Dense\n",
        "\n",
        "model = Sequential()\n",
        "model.add(Conv2D(16, (2,2),input_shape=(128, 128, 3),activation='relu'))\n",
        "model.add(MaxPool2D(pool_size=(2,2)))\n",
        "model.add(Conv2D(32, (2,2),activation='relu'))\n",
        "model.add(MaxPool2D(pool_size=(2,2)))\n",
        "model.add(Flatten())\n",
        "model.add(Dense(128,activation='relu'))\n",
        "model.add(Dense(5,activation='softmax'))\n",
        "\n",
        "model.compile(loss='sparse_categorical_crossentropy',optimizer='adam',metrics=['accuracy'])\n",
        "\n",
        "epoch = 1\n",
        "batch_size = 32\n",
        "\n",
        "H = model.fit_generator(\n",
        "\taug.flow(X_train, Y_train, batch_size=batch_size),\n",
        "\tvalidation_data=(X_test, Y_test),\n",
        "\tsteps_per_epoch=70,\n",
        "\tepochs=epoch)"
      ],
      "execution_count": 0,
      "outputs": []
    },
    {
      "cell_type": "code",
      "metadata": {
        "id": "mGN9oqzrc8Gb",
        "colab_type": "code",
        "colab": {}
      },
      "source": [
        "import matplotlib.pyplot as plt\n",
        "\n",
        "plt.plot(history.history['acc'])\n",
        "plt.plot(history.history['val_acc'])\n",
        "plt.title('model accuracy')\n",
        "plt.ylabel('accuracy')\n",
        "plt.xlabel('epoch')\n",
        "plt.legend(['train', 'test'], loc='upper left')\n",
        "plt.show()\n",
        "\n",
        "plt.plot(history.history['loss'])\n",
        "plt.plot(history.history['val_loss'])\n",
        "plt.title('model loss')\n",
        "plt.ylabel('loss')\n",
        "plt.xlabel('epoch')\n",
        "plt.legend(['train', 'test'], loc='upper left')\n",
        "plt.show()"
      ],
      "execution_count": 0,
      "outputs": []
    },
    {
      "cell_type": "code",
      "metadata": {
        "id": "HdHL8AgWdh6D",
        "colab_type": "code",
        "colab": {}
      },
      "source": [
        "pred = []\n",
        "size = 128,128\n",
        "import cv2\n",
        "import matplotlib.pyplot as plt\n",
        "from keras.preprocessing import image\n",
        "def conversion(img):\n",
        "  \n",
        "  im = cv2.imread(img)\n",
        "  im = cv2.resize(im,size)\n",
        "  pred.append(im)\n",
        "  data = np.asarray(pred)\n",
        "  data = data/255.0\n",
        "  return data\n",
        "\n",
        "def prediciton(path):\n",
        "  img = image.load_img(path,target_size=(128,128))\n",
        "  plt.imshow(img)\n",
        "  ar = conversion(path)\n",
        "  score = model.predict(ar)\n",
        "  a = np.argmax(score)\n",
        "  if a  ==[0]:\n",
        "    return \"Mild diabetic retinopathy\"\n",
        "  if a ==[1]:\n",
        "    return \"Moderate diabetic retinopathy\" \n",
        "  if a ==[2]:\n",
        "    return \"No diabetic retinopathy\"\n",
        "  if a ==[3]:\n",
        "    return \"Proliferate diabetic retinopathy\"\n",
        "  if a == [4]:\n",
        "    return \"Severe diabetic retinopathy\"       \n",
        "\n",
        "  \n",
        "\n",
        "prediciton(\"/content/data/gaussian_filtered_images/gaussian_filtered_images/No_DR/002c21358ce6.png\")"
      ],
      "execution_count": 0,
      "outputs": []
    }
  ]
}